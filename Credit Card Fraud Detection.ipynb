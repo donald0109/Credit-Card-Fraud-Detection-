{
 "cells": [
  {
   "cell_type": "code",
   "execution_count": 7,
   "metadata": {},
   "outputs": [
    {
     "name": "stdout",
     "output_type": "stream",
     "text": [
      "Python:3.7.0 (default, Jun 28 2018, 08:04:48) [MSC v.1912 64 bit (AMD64)]\n",
      "Numpy:1.15.1\n",
      "Pandas:0.23.4\n",
      "Matplotlib:2.2.3\n",
      "Seaborn:0.9.0\n",
      "Scipy:1.1.0\n",
      "Sklearn:0.19.2\n"
     ]
    }
   ],
   "source": [
    "import sys \n",
    "import numpy\n",
    "import pandas\n",
    "import matplotlib\n",
    "import seaborn\n",
    "import scipy\n",
    "import sklearn\n",
    "\n",
    "print('Python:{}'.format(sys.version))\n",
    "print('Numpy:{}'.format(numpy.__version__))\n",
    "print('Pandas:{}'.format(pandas.__version__))\n",
    "print('Matplotlib:{}'.format(matplotlib.__version__))\n",
    "print('Seaborn:{}'.format(seaborn.__version__))\n",
    "print('Scipy:{}'.format(scipy.__version__))\n",
    "print('Sklearn:{}'.format(sklearn.__version__))"
   ]
  },
  {
   "cell_type": "code",
   "execution_count": 9,
   "metadata": {},
   "outputs": [],
   "source": [
    "#now we will be importing some more librarias\n",
    "import numpy as np\n",
    "import pandas as pd\n",
    "import matplotlib.pyplot as plt\n",
    "import seaborn as sns"
   ]
  },
  {
   "cell_type": "code",
   "execution_count": 10,
   "metadata": {},
   "outputs": [],
   "source": [
    "#now lets load the dataset\n",
    "data = pd.read_csv('creditcard.csv')\n"
   ]
  },
  {
   "cell_type": "code",
   "execution_count": null,
   "metadata": {},
   "outputs": [],
   "source": []
  }
 ],
 "metadata": {
  "kernelspec": {
   "display_name": "Python 3",
   "language": "python",
   "name": "python3"
  },
  "language_info": {
   "codemirror_mode": {
    "name": "ipython",
    "version": 3
   },
   "file_extension": ".py",
   "mimetype": "text/x-python",
   "name": "python",
   "nbconvert_exporter": "python",
   "pygments_lexer": "ipython3",
   "version": "3.7.0"
  }
 },
 "nbformat": 4,
 "nbformat_minor": 2
}
